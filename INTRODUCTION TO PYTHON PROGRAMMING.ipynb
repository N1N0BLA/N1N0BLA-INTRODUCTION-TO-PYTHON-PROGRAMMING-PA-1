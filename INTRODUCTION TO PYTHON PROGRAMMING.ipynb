{
 "cells": [
  {
   "cell_type": "markdown",
   "id": "a3f3e94d-0064-4580-970a-e83fb674cb34",
   "metadata": {},
   "source": [
    "# INTRODUCTION TO PYTHON PROGRAMMING \n",
    "#### JOSE MARTIN SJ. NINOBLA  | 2 ECE - D"
   ]
  },
  {
   "cell_type": "markdown",
   "id": "e22d2162-e0a7-4978-a909-5d12287b3ece",
   "metadata": {},
   "source": [
    "##### 1. Create a function that takes a string and returns a string with its letters in alphabetical order."
   ]
  },
  {
   "cell_type": "code",
   "execution_count": 45,
   "id": "c78bf6ec-a899-4b9d-82a9-c5d570b0170c",
   "metadata": {},
   "outputs": [
    {
     "name": "stdout",
     "output_type": "stream",
     "text": [
      "ehllo\n",
      "acehkr\n"
     ]
    }
   ],
   "source": [
    "def string_sorter(input_string):\n",
    "    # Converts the string to a list of characters\n",
    "    letter = list(input_string)\n",
    "    # Arranges the list alphabetically\n",
    "    letter.sort()\n",
    "    # Puts the arranged letters back into a string\n",
    "    sorted_string = ''.join(letter)\n",
    "    return sorted_string #exits and outputs the sorted string/arranged letters\n",
    "\n",
    "# Example:\n",
    "result = string_sorter(\"hello\")\n",
    "print(result)  # Output should be: \"ehllo\"\n",
    "result = string_sorter(\"hacker\")\n",
    "print(result)  # Output should be: \"acehkr\"\n"
   ]
  },
  {
   "cell_type": "markdown",
   "id": "97cab8bd-f58a-44c2-ab5c-9c6c440c3948",
   "metadata": {},
   "source": [
    "##### 2: Create a function that changes specific words into emoticons. Given a sentence as a string, replace the words smile, grin, sad and mad with their corresponding emoticon:"
   ]
  },
  {
   "cell_type": "code",
   "execution_count": 70,
   "id": "a7b1e9cd-665d-4e00-964c-78bb04011a5b",
   "metadata": {},
   "outputs": [
    {
     "name": "stdout",
     "output_type": "stream",
     "text": [
      "Make me :)\n",
      "I am >:(\n"
     ]
    }
   ],
   "source": [
    "def emotify(sentence):\n",
    "    # Define a dictionary mapping words to their corresponding emoticons\n",
    "    emoticons = {\n",
    "        \"smile\": \":)\",\n",
    "        \"grin\": \":D\",\n",
    "        \"sad\": \":((\",\n",
    "        \"mad\": \">:(\" }\n",
    "    # Split the sentence into a list of words\n",
    "    words = sentence.split()\n",
    "    # Replace words with their corresponding emoticon if they exist in the dictionary\n",
    "    replaced_words = [emoticons[word] if word in emoticons else word for word in words]\n",
    "    # Join the words back into a sentence\n",
    "    replaced_sentence = ' '.join(replaced_words)\n",
    "    return replaced_sentence\n",
    "# Example usage:\n",
    "print(emotify(\"Make me smile\"))  # Output should be: \"Make me :)\"\n",
    "print(emotify(\"I am mad\"))   # Output should be: \"I am >:(\"\n"
   ]
  },
  {
   "cell_type": "markdown",
   "id": "a216cf27-0241-494e-93b1-30d4505687f0",
   "metadata": {},
   "source": [
    "##### 3. Unpack the list writeyourcodehere into three variables, being first, middle, and last, with middle being everything in between the first and last element. Then print all three variables."
   ]
  },
  {
   "cell_type": "code",
   "execution_count": 63,
   "id": "17c35ed3-18c8-47b7-82b0-5d0f987a4635",
   "metadata": {},
   "outputs": [
    {
     "name": "stdout",
     "output_type": "stream",
     "text": [
      "First: 1\n",
      "Middle: [2, 3, 4, 5]\n",
      "Last: 6\n"
     ]
    }
   ],
   "source": [
    "#list named writeyourcodehere\n",
    "writeyourcodehere = [1, 2, 3, 4, 5, 6]\n",
    "# This unpacks the code into the three given variables \"first\", \"middle\", and \"last\"\n",
    "first, *middle, last = writeyourcodehere\n",
    "# This prints out the variables with the \n",
    "print(\"First:\", first)   # Output: First: 1\n",
    "print(\"Middle:\", middle) # Output: Middle: [2, 3, 4, 5]\n",
    "print(\"Last:\", last)     # Output: Last: 6\n"
   ]
  },
  {
   "cell_type": "code",
   "execution_count": null,
   "id": "01bb357a-8309-484b-b809-9da23cbb6a0f",
   "metadata": {},
   "outputs": [],
   "source": []
  }
 ],
 "metadata": {
  "kernelspec": {
   "display_name": "Python 3 (ipykernel)",
   "language": "python",
   "name": "python3"
  },
  "language_info": {
   "codemirror_mode": {
    "name": "ipython",
    "version": 3
   },
   "file_extension": ".py",
   "mimetype": "text/x-python",
   "name": "python",
   "nbconvert_exporter": "python",
   "pygments_lexer": "ipython3",
   "version": "3.12.4"
  }
 },
 "nbformat": 4,
 "nbformat_minor": 5
}
